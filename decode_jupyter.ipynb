{
 "cells": [
  {
   "cell_type": "code",
   "execution_count": 7,
   "metadata": {},
   "outputs": [],
   "source": [
    "corpus = \"\"\n",
    "for i in range(1000):\n",
    "    nyt = open(\"nyt/file0.txt\").read()\n",
    "    corpus += nyt"
   ]
  },
  {
   "cell_type": "code",
   "execution_count": 67,
   "metadata": {},
   "outputs": [],
   "source": [
    "letters_cap = [chr(n) for n in range(65, 91)]"
   ]
  },
  {
   "cell_type": "code",
   "execution_count": 66,
   "metadata": {},
   "outputs": [],
   "source": [
    "letters = [chr(n) for n in range(97, 123)]"
   ]
  },
  {
   "cell_type": "code",
   "execution_count": 56,
   "metadata": {},
   "outputs": [],
   "source": [
    "from collections import Counter"
   ]
  },
  {
   "cell_type": "code",
   "execution_count": 77,
   "metadata": {},
   "outputs": [],
   "source": [
    "cnt = Counter()"
   ]
  },
  {
   "cell_type": "code",
   "execution_count": 78,
   "metadata": {},
   "outputs": [],
   "source": [
    "for l in letters:\n",
    "    for c in corpus:\n",
    "        if l == c:\n",
    "            cnt[l] += 1"
   ]
  },
  {
   "cell_type": "code",
   "execution_count": 79,
   "metadata": {},
   "outputs": [],
   "source": [
    "for l in letters_cap:\n",
    "    for c in corpus:\n",
    "        if l == c:\n",
    "            cnt[l] += 1"
   ]
  },
  {
   "cell_type": "code",
   "execution_count": 80,
   "metadata": {},
   "outputs": [],
   "source": [
    "for l in letters:\n",
    "    cnt[l] /= len(corpus)"
   ]
  },
  {
   "cell_type": "code",
   "execution_count": 81,
   "metadata": {},
   "outputs": [],
   "source": [
    "for l in letters_cap:\n",
    "    cnt[l] /= len(corpus)"
   ]
  },
  {
   "cell_type": "code",
   "execution_count": 82,
   "metadata": {
    "scrolled": true
   },
   "outputs": [
    {
     "data": {
      "text/plain": [
       "[('e', 0.09024430779458202),\n",
       " ('t', 0.06797407345853415),\n",
       " ('a', 0.06581352833638025),\n",
       " ('o', 0.059498088748545785),\n",
       " ('s', 0.05351504071796576),\n",
       " ('i', 0.05318264916071132),\n",
       " ('n', 0.05102210403855742),\n",
       " ('r', 0.04819677580189463),\n",
       " ('h', 0.041881336214060164),\n",
       " ('d', 0.03207578527505402),\n",
       " ('l', 0.026923716137610104),\n",
       " ('u', 0.02210403855742064),\n",
       " ('c', 0.01844773142762174),\n",
       " ('m', 0.018281535648994516),\n",
       " ('p', 0.014292836961941167),\n",
       " ('w', 0.013794249626059497),\n",
       " ('y', 0.012963270732923384),\n",
       " ('f', 0.012797074954296161),\n",
       " ('g', 0.012797074954296161),\n",
       " ('b', 0.00864218048861559),\n",
       " ('k', 0.006814026923716137),\n",
       " ('v', 0.006647831145088915),\n",
       " ('I', 0.005318264916071132),\n",
       " ('B', 0.004487286022935018),\n",
       " ('H', 0.0041548944656805715),\n",
       " ('T', 0.0033239155725444574),\n",
       " ('S', 0.002659132458035566),\n",
       " ('x', 0.0021605451221538975),\n",
       " ('A', 0.0019943493435266744),\n",
       " ('M', 0.0018281535648994515),\n",
       " ('D', 0.0016619577862722287),\n",
       " ('C', 0.0014957620076450058),\n",
       " ('E', 0.0014957620076450058),\n",
       " ('V', 0.0014957620076450058),\n",
       " ('N', 0.001329566229017783),\n",
       " ('O', 0.00116337045039056),\n",
       " ('j', 0.0009971746717633372),\n",
       " ('W', 0.0009971746717633372),\n",
       " ('J', 0.0008309788931361143),\n",
       " ('L', 0.0008309788931361143),\n",
       " ('P', 0.0008309788931361143),\n",
       " ('R', 0.0008309788931361143),\n",
       " ('z', 0.0006647831145088915),\n",
       " ('F', 0.0004985873358816686),\n",
       " ('U', 0.0004985873358816686),\n",
       " ('Y', 0.00033239155725444574),\n",
       " ('q', 0.00016619577862722287),\n",
       " ('K', 0.00016619577862722287),\n",
       " ('G', 0.0),\n",
       " ('Q', 0.0),\n",
       " ('X', 0.0),\n",
       " ('Z', 0.0)]"
      ]
     },
     "execution_count": 82,
     "metadata": {},
     "output_type": "execute_result"
    }
   ],
   "source": [
    "cnt.most_common()"
   ]
  },
  {
   "cell_type": "code",
   "execution_count": 83,
   "metadata": {},
   "outputs": [],
   "source": [
    "en_txt = open('encoded.txt', 'r').read()"
   ]
  },
  {
   "cell_type": "code",
   "execution_count": 87,
   "metadata": {},
   "outputs": [],
   "source": [
    "en_counter = Counter()"
   ]
  },
  {
   "cell_type": "code",
   "execution_count": 88,
   "metadata": {},
   "outputs": [],
   "source": [
    "for l in letters:\n",
    "    for c in en_txt:\n",
    "        if l == c:\n",
    "            en_counter[l] += 1\n",
    "for l in letters_cap:\n",
    "    for c in en_txt:\n",
    "        if l == c:\n",
    "            en_counter[l] += 1\n",
    "for l in letters:\n",
    "    en_counter[l] /= len(en_txt)\n",
    "for l in letters_cap:\n",
    "    en_counter[l] /= len(en_txt)"
   ]
  },
  {
   "cell_type": "code",
   "execution_count": 90,
   "metadata": {
    "scrolled": true
   },
   "outputs": [
    {
     "data": {
      "text/plain": [
       "[('o', 0.09995685315691069),\n",
       " ('k', 0.06141233999712355),\n",
       " ('b', 0.060117934704444126),\n",
       " ('q', 0.0598302890838487),\n",
       " ('z', 0.05738530130878757),\n",
       " ('d', 0.05609089601610816),\n",
       " ('j', 0.05609089601610816),\n",
       " ('w', 0.049906515173306486),\n",
       " ('x', 0.03236013231698547),\n",
       " ('f', 0.03178484107579462),\n",
       " ('m', 0.029196030490435784),\n",
       " ('r', 0.023874586509420394),\n",
       " ('p', 0.021141953113763844),\n",
       " ('n', 0.020710484682870702),\n",
       " ('v', 0.0174025600460233),\n",
       " ('s', 0.01610815475334388),\n",
       " ('a', 0.012656407306198764),\n",
       " ('g', 0.011505824823817058),\n",
       " ('i', 0.009779951100244499),\n",
       " ('t', 0.007766431756076514),\n",
       " ('e', 0.0071911405148856605),\n",
       " ('V', 0.005896735222206242),\n",
       " ('l', 0.003883215878038257),\n",
       " ('F', 0.003739393067740544),\n",
       " ('I', 0.0035955702574428303),\n",
       " ('Q', 0.003307924636847404),\n",
       " ('S', 0.003164101826549691),\n",
       " ('B', 0.0027326333956565513),\n",
       " ('H', 0.001869696533870272),\n",
       " ('C', 0.0015820509132748455),\n",
       " ('U', 0.0015820509132748455),\n",
       " ('P', 0.0014382281029771322),\n",
       " ('A', 0.0012944052926794189),\n",
       " ('T', 0.0011505824823817058),\n",
       " ('h', 0.0008629368617862793),\n",
       " ('y', 0.0007191140514885661),\n",
       " ('J', 0.0007191140514885661),\n",
       " ('E', 0.0005752912411908529),\n",
       " ('M', 0.0005752912411908529),\n",
       " ('W', 0.0005752912411908529),\n",
       " ('c', 0.00043146843089313965),\n",
       " ('G', 0.00043146843089313965),\n",
       " ('R', 0.00043146843089313965),\n",
       " ('K', 0.00028764562059542645),\n",
       " ('L', 0.00028764562059542645),\n",
       " ('u', 0.00014382281029771322),\n",
       " ('D', 0.0),\n",
       " ('N', 0.0),\n",
       " ('O', 0.0),\n",
       " ('X', 0.0),\n",
       " ('Y', 0.0),\n",
       " ('Z', 0.0)]"
      ]
     },
     "execution_count": 90,
     "metadata": {},
     "output_type": "execute_result"
    }
   ],
   "source": [
    "en_counter.most_common()"
   ]
  },
  {
   "cell_type": "code",
   "execution_count": 111,
   "metadata": {},
   "outputs": [],
   "source": [
    "cnt_list = []\n",
    "for n in cnt.most_common():\n",
    "    cnt_list.append(n[0])"
   ]
  },
  {
   "cell_type": "code",
   "execution_count": 126,
   "metadata": {
    "scrolled": true
   },
   "outputs": [
    {
     "data": {
      "text/plain": [
       "52"
      ]
     },
     "execution_count": 126,
     "metadata": {},
     "output_type": "execute_result"
    }
   ],
   "source": [
    "len(cnt_list)"
   ]
  },
  {
   "cell_type": "code",
   "execution_count": 114,
   "metadata": {},
   "outputs": [],
   "source": [
    "en_cnt_list = []\n",
    "for n in en_counter.most_common():\n",
    "    en_cnt_list.append(n[0])"
   ]
  },
  {
   "cell_type": "code",
   "execution_count": 125,
   "metadata": {
    "scrolled": true
   },
   "outputs": [
    {
     "data": {
      "text/plain": [
       "52"
      ]
     },
     "execution_count": 125,
     "metadata": {},
     "output_type": "execute_result"
    }
   ],
   "source": [
    "len(en_cnt_list)"
   ]
  },
  {
   "cell_type": "code",
   "execution_count": 131,
   "metadata": {},
   "outputs": [],
   "source": [
    "wrt = open('new_key.txt', 'a')"
   ]
  },
  {
   "cell_type": "code",
   "execution_count": 132,
   "metadata": {},
   "outputs": [],
   "source": [
    "for n in range(52):\n",
    "    wrt.write(cnt_list[n] + ' ' + en_cnt_list[n] + '\\n')"
   ]
  },
  {
   "cell_type": "code",
   "execution_count": 133,
   "metadata": {},
   "outputs": [],
   "source": [
    "wrt.close()"
   ]
  },
  {
   "cell_type": "code",
   "execution_count": null,
   "metadata": {},
   "outputs": [],
   "source": []
  }
 ],
 "metadata": {
  "kernelspec": {
   "display_name": "Python 3",
   "language": "python",
   "name": "python3"
  },
  "language_info": {
   "codemirror_mode": {
    "name": "ipython",
    "version": 3
   },
   "file_extension": ".py",
   "mimetype": "text/x-python",
   "name": "python",
   "nbconvert_exporter": "python",
   "pygments_lexer": "ipython3",
   "version": "3.7.4"
  }
 },
 "nbformat": 4,
 "nbformat_minor": 2
}
