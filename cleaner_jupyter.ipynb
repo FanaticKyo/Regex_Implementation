{
 "cells": [
  {
   "cell_type": "code",
   "execution_count": 1,
   "metadata": {},
   "outputs": [],
   "source": [
    "import sys\n",
    "import re"
   ]
  },
  {
   "cell_type": "code",
   "execution_count": 4,
   "metadata": {},
   "outputs": [],
   "source": [
    "banned_full_names = set()\n",
    "with open('names.txt', \"r\") as f:\n",
    "    for line in f:\n",
    "        line = line.strip()\n",
    "        if line:\n",
    "            banned_full_names.add(line)\n",
    "banned_full_names = list(banned_full_names)\n",
    "banned_last_names = list(set([n.split()[-1] for n in banned_full_names]))"
   ]
  },
  {
   "cell_type": "code",
   "execution_count": 377,
   "metadata": {},
   "outputs": [],
   "source": [
    "input_contents = \"\"\n",
    "with open('nyt/file2.txt', \"r\") as f:\n",
    "    input_contents = f.read()\n",
    "if not input_contents:\n",
    "    print(\"Error: Input file is empty!\")\n",
    "    sys.exit(1)"
   ]
  },
  {
   "cell_type": "code",
   "execution_count": 32,
   "metadata": {},
   "outputs": [],
   "source": [
    "rfn = \"John Smith\"\n",
    "rln = \"Smith\""
   ]
  },
  {
   "cell_type": "code",
   "execution_count": 904,
   "metadata": {},
   "outputs": [],
   "source": [
    "input_contents = \"I believe that Tiger Woods is an amazing golfer. Tiger Woods' abilities are far beyond my own.\\\n",
    " My favorite golfer is Tiger Woods, and I have a shirt with TIGER WOODS printed on it.\\\n",
    " The article named Tiger-Woods was published yesterday. Woods are the material that form the\\\n",
    " trunks and branches of trees.\\tare\\tWoods\\tare\""
   ]
  },
  {
   "cell_type": "code",
   "execution_count": 905,
   "metadata": {},
   "outputs": [],
   "source": [
    "banned_full_names.append(\"Tiger Woods\")\n",
    "banned_last_names.append(\"Woods\")"
   ]
  },
  {
   "cell_type": "code",
   "execution_count": 1578,
   "metadata": {},
   "outputs": [],
   "source": [
    "input_contents = 'Tiger Woodss' # -> Tiger Woodss"
   ]
  },
  {
   "cell_type": "code",
   "execution_count": 1584,
   "metadata": {},
   "outputs": [],
   "source": [
    "input_contents = 'TTiger Woods' # -> TTiger Smith"
   ]
  },
  {
   "cell_type": "code",
   "execution_count": 1590,
   "metadata": {},
   "outputs": [],
   "source": [
    "input_contents = 'Tiger (Woods Woods' # -> TTiger Smith"
   ]
  },
  {
   "cell_type": "code",
   "execution_count": 1596,
   "metadata": {},
   "outputs": [],
   "source": [
    "input_contents = 'Tiger-Woods' # -> Tiger-Woods"
   ]
  },
  {
   "cell_type": "code",
   "execution_count": 1611,
   "metadata": {},
   "outputs": [],
   "source": [
    "input_contents = 'TigerWoods' # -> Tiger-Woods"
   ]
  },
  {
   "cell_type": "code",
   "execution_count": 1626,
   "metadata": {},
   "outputs": [],
   "source": [
    "input_contents = 'Tiger Woods Tiger Woods' # -> John Smith John Smith"
   ]
  },
  {
   "cell_type": "code",
   "execution_count": 1627,
   "metadata": {},
   "outputs": [],
   "source": [
    "nip = input_contents"
   ]
  },
  {
   "cell_type": "code",
   "execution_count": 1630,
   "metadata": {
    "scrolled": true
   },
   "outputs": [],
   "source": [
    "nip = re.sub(r'([^-\\w]+|^|\\s+)(Tiger)(\\s+)(Woods)([^\\w]+|$)', r'\\1John\\3Smith\\5', nip)"
   ]
  },
  {
   "cell_type": "code",
   "execution_count": 1631,
   "metadata": {},
   "outputs": [
    {
     "data": {
      "text/plain": [
       "'John Smith John Smith'"
      ]
     },
     "execution_count": 1631,
     "metadata": {},
     "output_type": "execute_result"
    }
   ],
   "source": [
    "nip"
   ]
  },
  {
   "cell_type": "code",
   "execution_count": 1615,
   "metadata": {},
   "outputs": [],
   "source": [
    "nip = re.sub(r'([^-\\w]+|\\s+)(Woods)([^\\w]+|$)', r'\\1Smith\\3', nip) "
   ]
  },
  {
   "cell_type": "code",
   "execution_count": 1616,
   "metadata": {},
   "outputs": [],
   "source": [
    "nip = re.sub(r'([^-\\w]+|\\s+)(Woods)([^\\w]+|$)', r'\\1Smith\\3', nip) "
   ]
  },
  {
   "cell_type": "code",
   "execution_count": 1617,
   "metadata": {},
   "outputs": [
    {
     "data": {
      "text/plain": [
       "'TigerWoods'"
      ]
     },
     "execution_count": 1617,
     "metadata": {},
     "output_type": "execute_result"
    }
   ],
   "source": [
    "nip"
   ]
  },
  {
   "cell_type": "code",
   "execution_count": 908,
   "metadata": {},
   "outputs": [],
   "source": [
    "for bln in banned_last_names:\n",
    "    nip = re.sub(r'(\\W\\s)(' + bln + ')(\\s[a-z]+)', r'\\1' + rln + r'\\3', nip)\n",
    "    nip = re.sub(r'(\\s[a-z]\\w+\\s)(' + bln + ')(\\s[a-z]+)', r'\\1' + rln + r'\\3', nip)\n",
    "    nip = re.sub(r'(\\t[a-z]\\w+\\t)(' + bln + ')(\\t)', r'\\1' + rln + r'\\3', nip)\n",
    "    nip = re.sub(r'(\\W\\W)(' + bln + ')(\\W\\W)', r'\\1' + rln + r'\\3', nip)"
   ]
  },
  {
   "cell_type": "code",
   "execution_count": 909,
   "metadata": {
    "scrolled": true
   },
   "outputs": [
    {
     "data": {
      "text/plain": [
       "\"I believe that Tiger Woods is an amazing golfer. Tiger Woods' abilities are far beyond my own. My favorite golfer is Tiger Woods, and I have a shirt with TIGER WOODS printed on it. The article named Tiger-Woods was published yesterday. Woods are the material that form the trunks and branches of trees.\\tare\\tWoods\\tare\""
      ]
     },
     "execution_count": 909,
     "metadata": {},
     "output_type": "execute_result"
    }
   ],
   "source": [
    "input_contents"
   ]
  },
  {
   "cell_type": "code",
   "execution_count": 910,
   "metadata": {
    "scrolled": true
   },
   "outputs": [
    {
     "data": {
      "text/plain": [
       "\"I believe that John Smith is an amazing golfer. John Smith' abilities are far beyond my own. My favorite golfer is John Smith, and I have a shirt with TIGER WOODS printed on it. The article named Tiger-Woods was published yesterday. Smith are the material that form the trunks and branches of trees.\\tare\\tSmith\\tare\""
      ]
     },
     "execution_count": 910,
     "metadata": {},
     "output_type": "execute_result"
    }
   ],
   "source": [
    "nip"
   ]
  },
  {
   "cell_type": "code",
   "execution_count": 834,
   "metadata": {},
   "outputs": [
    {
     "data": {
      "text/plain": [
       "False"
      ]
     },
     "execution_count": 834,
     "metadata": {},
     "output_type": "execute_result"
    }
   ],
   "source": [
    "nip == input_contents"
   ]
  },
  {
   "cell_type": "code",
   "execution_count": 911,
   "metadata": {},
   "outputs": [],
   "source": [
    "text = 'BBob Kyo'"
   ]
  },
  {
   "cell_type": "code",
   "execution_count": null,
   "metadata": {},
   "outputs": [],
   "source": [
    "re.sub(r'')"
   ]
  }
 ],
 "metadata": {
  "kernelspec": {
   "display_name": "Python 3",
   "language": "python",
   "name": "python3"
  },
  "language_info": {
   "codemirror_mode": {
    "name": "ipython",
    "version": 3
   },
   "file_extension": ".py",
   "mimetype": "text/x-python",
   "name": "python",
   "nbconvert_exporter": "python",
   "pygments_lexer": "ipython3",
   "version": "3.7.4"
  }
 },
 "nbformat": 4,
 "nbformat_minor": 2
}
